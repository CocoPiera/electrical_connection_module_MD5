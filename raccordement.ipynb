{
 "cells": [
  {
   "cell_type": "code",
   "execution_count": null,
   "metadata": {},
   "outputs": [],
   "source": [
    "\n",
    "# Spécifiez le chemin du dossier\n",
    "data = '/Users/colinepiera/bureau/MD5/cours_MD5/use_case_ML'\n",
    "\n",
    "# Liste tous les fichiers dans le dossier\n",
    "fichiers = os.listdir(data)\n",
    "\n",
    "# Boucle sur tous les fichiers\n",
    "for fichier in fichiers:\n",
    "    # Crée le chemin complet du fichier\n",
    "    chemin_complet = os.path.join(data, fichier)\n",
    "    \n",
    "    # Vérifie l'extension du fichier et lit le fichier en conséquence\n",
    "    if fichier.endswith('.csv'):\n",
    "        df = pd.read_csv(chemin_complet)\n",
    "    elif fichier.endswith('.xlsx'):\n",
    "        df = pd.read_excel(chemin_complet)\n",
    "    elif fichier.endswith('.shp'):\n",
    "        df = gpd.read_file(chemin_complet)\n",
    "    else:\n",
    "        print(f\"Format de fichier non pris en charge: {fichier}\")\n",
    "    \n",
    "    # Ici, vous pouvez faire ce que vous voulez avec le DataFrame df\n",
    "    print(df.head())"
   ]
  },
  {
   "cell_type": "code",
   "execution_count": 3,
   "metadata": {},
   "outputs": [
    {
     "ename": "ModuleNotFoundError",
     "evalue": "No module named 'dbfread'",
     "output_type": "error",
     "traceback": [
      "\u001b[0;31m---------------------------------------------------------------------------\u001b[0m",
      "\u001b[0;31mModuleNotFoundError\u001b[0m                       Traceback (most recent call last)",
      "Cell \u001b[0;32mIn[3], line 20\u001b[0m\n\u001b[1;32m     18\u001b[0m     df \u001b[38;5;241m=\u001b[39m gpd\u001b[38;5;241m.\u001b[39mread_file(chemin_complet)\n\u001b[1;32m     19\u001b[0m \u001b[38;5;28;01melif\u001b[39;00m fichier\u001b[38;5;241m.\u001b[39mendswith(\u001b[38;5;124m'\u001b[39m\u001b[38;5;124m.dbf\u001b[39m\u001b[38;5;124m'\u001b[39m):\n\u001b[0;32m---> 20\u001b[0m     \u001b[38;5;28;01mfrom\u001b[39;00m \u001b[38;5;21;01mdbfread\u001b[39;00m \u001b[38;5;28;01mimport\u001b[39;00m DBF\n\u001b[1;32m     21\u001b[0m     dbf \u001b[38;5;241m=\u001b[39m DBF(chemin_complet)\n\u001b[1;32m     22\u001b[0m     df \u001b[38;5;241m=\u001b[39m pd\u001b[38;5;241m.\u001b[39mDataFrame(\u001b[38;5;28miter\u001b[39m(dbf))\n",
      "\u001b[0;31mModuleNotFoundError\u001b[0m: No module named 'dbfread'"
     ]
    }
   ],
   "source": [
    "# Spécifiez le chemin du dossier\n",
    "data = '/Users/colinepiera/bureau/MD5/cours_MD5/use_case_ML'\n",
    "\n",
    "# Liste tous les fichiers dans le dossier\n",
    "fichiers = os.listdir(data)\n",
    "\n",
    "# Boucle sur tous les fichiers\n",
    "for fichier in fichiers:\n",
    "    # Crée le chemin complet du fichier\n",
    "    chemin_complet = os.path.join(data, fichier)\n",
    "    \n",
    "    # Vérifie l'extension du fichier et lit le fichier en conséquence\n",
    "    if fichier.endswith('.csv'):\n",
    "        df = pd.read_csv(chemin_complet)\n",
    "    elif fichier.endswith('.xlsx'):\n",
    "        df = pd.read_excel(chemin_complet)\n",
    "    elif fichier.endswith('.shp'):\n",
    "        df = gpd.read_file(chemin_complet)\n",
    "    elif fichier.endswith('.dbf'):\n",
    "        from dbfread import DBF\n",
    "        dbf = DBF(chemin_complet)\n",
    "        df = pd.DataFrame(iter(dbf))\n",
    "    else:\n",
    "        print(f\"Format de fichier non pris en charge: {fichier}\")\n",
    "    \n",
    "    # Ici, vous pouvez faire ce que vous voulez avec le DataFrame df\n",
    "    print(df.head())"
   ]
  }
 ],
 "metadata": {
  "kernelspec": {
   "display_name": "myenv",
   "language": "python",
   "name": "python3"
  },
  "language_info": {
   "codemirror_mode": {
    "name": "ipython",
    "version": 3
   },
   "file_extension": ".py",
   "mimetype": "text/x-python",
   "name": "python",
   "nbconvert_exporter": "python",
   "pygments_lexer": "ipython3",
   "version": "3.12.3"
  }
 },
 "nbformat": 4,
 "nbformat_minor": 2
}
